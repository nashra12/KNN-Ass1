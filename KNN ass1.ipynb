{
 "cells": [
  {
   "cell_type": "markdown",
   "id": "352385d1-6cd7-4e2a-a40f-747bb0f88040",
   "metadata": {},
   "source": [
    "Q1. What is the KNN algorithm?\n",
    "Ans->K Nearest Neighbors is the algorithm where we make a small small group and find out the neraest neighbor value by initiating value of K>0"
   ]
  },
  {
   "cell_type": "markdown",
   "id": "f7fd4e9f-bca0-4190-a321-1893120e579f",
   "metadata": {},
   "source": [
    "Q2. How do you choose the value of K in KNN?\n",
    "Ans=> k>0 always k can be 1,2,3,4... and you can segregate the training and validation from the initial dataset."
   ]
  },
  {
   "cell_type": "markdown",
   "id": "d1905125-7acf-4c31-ba29-61b1cf8c9351",
   "metadata": {},
   "source": [
    "Q3. What is the difference between KNN classifier and KNN regressor?\n",
    "Ans->regressor is a continous value.In the case of regression we will do average or median of distance of 1,2,...k^th Nearest points,but in Classifier we find 1,2,3...k^th nearest neighbors eg: first we calculate the distnace of 1 point to new data point,then dis of 2^nd data point to new data point and so on"
   ]
  },
  {
   "cell_type": "markdown",
   "id": "35492135-8564-4efc-ae1a-eb9c996498e9",
   "metadata": {},
   "source": [
    "Q4. How do you measure the performance of KNN?\n",
    "ans->Two common approaches are cross -validation and training/testing split."
   ]
  },
  {
   "cell_type": "markdown",
   "id": "8336a8b8-4bf7-4bdc-9139-02fc1a4323a8",
   "metadata": {},
   "source": [
    "Q5. What is the curse of dimensionality in KNN?\n",
    "Ans->The dimensionality curse phenomenon states that in high dimensional spaces distances between nearest and farthest points from query points become almost equal."
   ]
  },
  {
   "cell_type": "markdown",
   "id": "2a8db093-8415-4b14-8c3a-05e849486165",
   "metadata": {},
   "source": [
    "Q6. How do you handle missing values in KNN?\n",
    "Ans-> Estimating values based on the characteristics of neighboring data points."
   ]
  },
  {
   "cell_type": "markdown",
   "id": "03404e0a-2095-44ec-aa68-6435042a481a",
   "metadata": {},
   "source": [
    "Q7. Compare and contrast the performance of the KNN classifier and regressor. Which one is better for\n",
    "which type of problem?\n",
    "Ans-> classification is used for discrete values, whereas regression is used with continuous ones.\n",
    "\n",
    "\n",
    "Knn Classifier: Predicts a class by using the highest majority category among its k nearest neighbors.\n",
    "\n",
    "Knn Regression: Predicts a value by using the mean of the k nearest neighbors.\n",
    "\n",
    "\n",
    "Q8. What are the strengths and weaknesses of the KNN algorithm for classification and regression tasks,\n",
    "and how can these be addressed?\n",
    "Ans->It's main disadvantages are that it is quite computationally inefficient and its difficult to pick the “correct” value of K.\n",
    "he strength of K-nearest neighbor (K-NN) is its simplicity and intuitive nature\n",
    "\n",
    "Q9. What is the difference between Euclidean distance and Manhattan distance in KNN?\n",
    "Ans->"
   ]
  }
 ],
 "metadata": {
  "kernelspec": {
   "display_name": "Python 3 (ipykernel)",
   "language": "python",
   "name": "python3"
  },
  "language_info": {
   "codemirror_mode": {
    "name": "ipython",
    "version": 3
   },
   "file_extension": ".py",
   "mimetype": "text/x-python",
   "name": "python",
   "nbconvert_exporter": "python",
   "pygments_lexer": "ipython3",
   "version": "3.10.8"
  }
 },
 "nbformat": 4,
 "nbformat_minor": 5
}
